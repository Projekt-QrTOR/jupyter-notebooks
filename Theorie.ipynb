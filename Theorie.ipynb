{
 "cells": [
  {
   "cell_type": "markdown",
   "metadata": {},
   "source": [
    "# Die Mathematik des SIDH"
   ]
  },
  {
   "cell_type": "markdown",
   "metadata": {},
   "source": [
    "Dieses Notebook benötigt das Jupyter-SageMath-9.0-Kernel \\\n",
    "Eine Installationsanleitung finden Sie im Textdokument \"Einführung\" innerhalb des Projektanhangs"
   ]
  },
  {
   "cell_type": "markdown",
   "metadata": {},
   "source": [
    "***\n",
    "$\\mathbf{\\text{Galois-Feld}}$<br>\n",
    "***\n",
    "1.&emsp;Galois-Feld mit Primcharakteristik $$GF(p) = \\{\\ a\\ ; a\\ mod\\ p\\}$$\n",
    "2.&emsp;Quadratische Erweiterung: $$GF(p^2) = GF(i) = \\{\\ a*z_2 + b\\ ; a,b \\in GF(p)\\ \\}$$\n",
    "***\n",
    "$\\mathbf{\\text{Beispiel}}$<br>\n",
    "$$GF(7) = \\{0, 1, 2, 3, 4, 5, 6 \\}$$ </br>\n",
    "$$GF(p^2) = GF(i) = \\{\\ a*z_2 + b\\ ; a,b \\in GF(7)\\ \\}$$ </br>\n",
    "$$\\vert GF(7) \\vert = 7$$ </br>\n",
    "$$\\vert(GF(7^2) \\vert = 49$$ </br>"
   ]
  },
  {
   "cell_type": "markdown",
   "metadata": {},
   "source": [
    "Ein Galoisfeld ist also grundsätzlich die Menge aller Ganzzahlen, die nach modularer Reduktion durch die Primcharakteristik entstehen. Die quadratische Erweiterung besteht aus der Menge aller möglichen Polynome der Grads $2$, mit Koeffizienten aus dem Basisfeld [4]. Im Folgenden ein Beispiel mit $GF(7)$:"
   ]
  },
  {
   "cell_type": "code",
   "execution_count": 1,
   "metadata": {},
   "outputs": [
    {
     "name": "stdout",
     "output_type": "stream",
     "text": [
      "Order of GF(p): 7\n",
      "Order of GF(p^2): 49\n"
     ]
    }
   ],
   "source": [
    "galois = GF(7)\n",
    "quadratic_extension = GF(7^2)\n",
    "print(\"Order of GF(p): \" + str(galois.order()))\n",
    "print(\"Order of GF(p^2): \" + str(quadratic_extension.order()))"
   ]
  },
  {
   "cell_type": "code",
   "execution_count": 2,
   "metadata": {},
   "outputs": [
    {
     "data": {
      "text/plain": [
       "4"
      ]
     },
     "execution_count": 2,
     "metadata": {},
     "output_type": "execute_result"
    }
   ],
   "source": [
    "galois.random_element()"
   ]
  },
  {
   "cell_type": "code",
   "execution_count": 3,
   "metadata": {},
   "outputs": [
    {
     "data": {
      "text/plain": [
       "3*z2"
      ]
     },
     "execution_count": 3,
     "metadata": {},
     "output_type": "execute_result"
    }
   ],
   "source": [
    "quadratic_extension.random_element()"
   ]
  },
  {
   "cell_type": "markdown",
   "metadata": {},
   "source": [
    "***\n",
    "$\\mathbf{\\text{Isogenien}}$<br>\n",
    "***\n",
    "Eine Isogenie ist eine nicht-konstante rationale Abbildung mit endlichem Kern: $$\\phi : E_0 \\rightarrow E_1$$\n",
    "Eine Isogenie ist durch ihren Kern eindeutig identifizierbar: $$ G = \\{ P_1 , P_2, ..., P_n\\} \\in E_0$$ </br> $$G \\subset E_0$$ </br> $$\\phi(G) = \\mathcal{O}$$\n",
    "***\n",
    "$\\mathbf{\\text{Beispiel}}$<br>\n",
    "$$E_0: y^2 = x^3 + 2x + 3,\\ E_0 \\subset GF(11)$$"
   ]
  },
  {
   "cell_type": "markdown",
   "metadata": {},
   "source": [
    "Die Besonderheit einer Isogenie besteht vor allem daraus, dass diese die Gruppenstruktur erhält. Nach Abbildung einer elliptischen Kurve $E_0$ durch die Isogenie $\\phi$ auf die Bildkurve $\\phi(E_0) = E_1$ besitzt $E_1$ ebenfalls wieder die im Notebook \"Grundlagen\" besprochene Gruppenstuktur _[3]_. Eine Isogenie ist somit immer ein Gruppenhomomorphismus.\n",
    "Im Folgenden wird eine Isogenie der Ordnung $8$ konstruiert, womit der Kern dieser Isogenie $8$ Elemente besitzt."
   ]
  },
  {
   "cell_type": "code",
   "execution_count": 4,
   "metadata": {},
   "outputs": [],
   "source": [
    "k = GF(11)\n",
    "E = EllipticCurve(k,[1,2])"
   ]
  },
  {
   "cell_type": "code",
   "execution_count": 5,
   "metadata": {},
   "outputs": [
    {
     "data": {
      "image/png": "[encoded data removed]",
      "text/plain": [
       "Graphics object consisting of 1 graphics primitive"
      ]
     },
     "execution_count": 5,
     "metadata": {},
     "output_type": "execute_result"
    }
   ],
   "source": [
    "E.plot()"
   ]
  },
  {
   "cell_type": "markdown",
   "metadata": {},
   "source": [
    "$$P = (4, 2) \\in E_0$$ </br>\n",
    "$$ord(P) = 8$$"
   ]
  },
  {
   "cell_type": "code",
   "execution_count": 6,
   "metadata": {},
   "outputs": [
    {
     "data": {
      "text/plain": [
       "8"
      ]
     },
     "execution_count": 6,
     "metadata": {},
     "output_type": "execute_result"
    }
   ],
   "source": [
    "P = E(4,2)\n",
    "P.order()"
   ]
  },
  {
   "cell_type": "markdown",
   "metadata": {},
   "source": [
    "$$G = \\{P, ..., \\mathcal{O}\\}$$ </br> $$\\ \\vert G \\vert = ord(P) = 8$$"
   ]
  },
  {
   "cell_type": "code",
   "execution_count": 7,
   "metadata": {},
   "outputs": [
    {
     "data": {
      "text/plain": [
       "[(4 : 2 : 1),\n",
       " (8 : 4 : 1),\n",
       " (2 : 10 : 1),\n",
       " (10 : 0 : 1),\n",
       " (2 : 1 : 1),\n",
       " (8 : 7 : 1),\n",
       " (4 : 9 : 1),\n",
       " (0 : 1 : 0)]"
      ]
     },
     "execution_count": 7,
     "metadata": {},
     "output_type": "execute_result"
    }
   ],
   "source": [
    "kernel = []\n",
    "\n",
    "for i in range(1, 9):\n",
    "    kernel.append(P*i)\n",
    "    \n",
    "kernel"
   ]
  },
  {
   "cell_type": "markdown",
   "metadata": {},
   "source": [
    "$$\\phi: E_0 \\rightarrow E_1 $$ </br>\n",
    "$$kernel(\\phi) = G$$ </br>\n",
    "$$\\vert kernel(\\phi) \\vert = \\vert G \\vert = ord(P) = deg(\\phi)$$"
   ]
  },
  {
   "cell_type": "code",
   "execution_count": 8,
   "metadata": {},
   "outputs": [
    {
     "data": {
      "text/plain": [
       "Isogeny of degree 8 from Elliptic Curve defined by y^2 = x^3 + x + 2 over Finite Field of size 11 to Elliptic Curve defined by y^2 = x^3 + 5*x + 7 over Finite Field of size 11"
      ]
     },
     "execution_count": 8,
     "metadata": {},
     "output_type": "execute_result"
    }
   ],
   "source": [
    "phi = E.isogeny(kernel)\n",
    "phi"
   ]
  },
  {
   "cell_type": "markdown",
   "metadata": {},
   "source": [
    "$$\\phi(x, y) = ( \\frac{(x^8 - 5x^7 + 2x^6 - 5x^5 + 5x^3 - 5x^2 + 4x + 4)}{(x^7 - 5x^6 + 5x^5 - 2x^4 - 2x^3 + 4x^2 - 3x + 4)}\\ ,\\ \\frac{(x^{11}y + 4x^{10}y + 5x^9y + 5x^8y - 4x^7y - 2x^6y - 2x^5y + 4x^4y - 4x^2y + xy + 3y)}{(x^{11} + 4x^{10} + 2x^9 + x^8 + x^7 - 5x^6 - 3x^5 + 3x^4 - 5x^3 + 2x^2 - 5x - 3)} )$$"
   ]
  },
  {
   "cell_type": "code",
   "execution_count": 9,
   "metadata": {},
   "outputs": [
    {
     "data": {
      "text/plain": [
       "((x^8 - 5*x^7 + 2*x^6 - 5*x^5 + 5*x^3 - 5*x^2 + 4*x + 4)/(x^7 - 5*x^6 + 5*x^5 - 2*x^4 - 2*x^3 + 4*x^2 - 3*x + 4),\n",
       " (x^11*y + 4*x^10*y + 5*x^9*y + 5*x^8*y - 4*x^7*y - 2*x^6*y - 2*x^5*y + 4*x^4*y - 4*x^2*y + x*y + 3*y)/(x^11 + 4*x^10 + 2*x^9 + x^8 + x^7 - 5*x^6 - 3*x^5 + 3*x^4 - 5*x^3 + 2*x^2 - 5*x - 3))"
      ]
     },
     "execution_count": 9,
     "metadata": {},
     "output_type": "execute_result"
    }
   ],
   "source": [
    "phi.rational_maps()"
   ]
  },
  {
   "cell_type": "markdown",
   "metadata": {},
   "source": [
    "$$\\phi(G) = \\phi(kernel(\\phi))= \\mathcal{O}$$"
   ]
  },
  {
   "cell_type": "code",
   "execution_count": 10,
   "metadata": {},
   "outputs": [
    {
     "name": "stdout",
     "output_type": "stream",
     "text": [
      "(0 : 1 : 0)\n",
      "(0 : 1 : 0)\n",
      "(0 : 1 : 0)\n",
      "(0 : 1 : 0)\n",
      "(0 : 1 : 0)\n",
      "(0 : 1 : 0)\n",
      "(0 : 1 : 0)\n",
      "(0 : 1 : 0)\n"
     ]
    }
   ],
   "source": [
    "for p in kernel:\n",
    "    print(phi(p))"
   ]
  },
  {
   "cell_type": "markdown",
   "metadata": {},
   "source": [
    "$$E_1: y^2 = x^3 + 5x + 7$$"
   ]
  },
  {
   "cell_type": "code",
   "execution_count": 11,
   "metadata": {},
   "outputs": [
    {
     "data": {
      "text/plain": [
       "Elliptic Curve defined by y^2 = x^3 + 5*x + 7 over Finite Field of size 11"
      ]
     },
     "execution_count": 11,
     "metadata": {},
     "output_type": "execute_result"
    }
   ],
   "source": [
    "E_1 = phi.codomain()\n",
    "E_1"
   ]
  },
  {
   "cell_type": "code",
   "execution_count": 12,
   "metadata": {},
   "outputs": [
    {
     "data": {
      "image/png": "[encoded data removed]",
      "text/plain": [
       "Graphics object consisting of 1 graphics primitive"
      ]
     },
     "execution_count": 12,
     "metadata": {},
     "output_type": "execute_result"
    }
   ],
   "source": [
    "E_1.plot()"
   ]
  },
  {
   "cell_type": "markdown",
   "metadata": {},
   "source": [
    "***\n",
    "$\\mathbf{\\text{Isogenie-Kern Beziehung}}$<br>\n",
    "***\n"
   ]
  },
  {
   "cell_type": "code",
   "execution_count": 13,
   "metadata": {},
   "outputs": [],
   "source": [
    "F = GF(17)\n",
    "E_0 = EllipticCurve(F, [1, 6])"
   ]
  },
  {
   "cell_type": "markdown",
   "metadata": {},
   "source": [
    "$\\mathbf{\\text{Jede n-Torsionsgruppe definiert eine Isogenie vom Grad n}}$"
   ]
  },
  {
   "cell_type": "code",
   "execution_count": 14,
   "metadata": {},
   "outputs": [
    {
     "data": {
      "text/plain": [
       "[(5 : 0 : 1)]"
      ]
     },
     "execution_count": 14,
     "metadata": {},
     "output_type": "execute_result"
    }
   ],
   "source": [
    "torsion = 2\n",
    "torsion_group = [point for point in E_0.points() if point.order() == torsion]\n",
    "torsion_group"
   ]
  },
  {
   "cell_type": "code",
   "execution_count": 15,
   "metadata": {},
   "outputs": [
    {
     "data": {
      "text/plain": [
       "Isogeny of degree 2 from Elliptic Curve defined by y^2 = x^3 + x + 6 over Finite Field of size 17 to Elliptic Curve defined by y^2 = x^3 + 12*x + 15 over Finite Field of size 17"
      ]
     },
     "execution_count": 15,
     "metadata": {},
     "output_type": "execute_result"
    }
   ],
   "source": [
    "phi = E_0.isogeny(torsion_group)\n",
    "phi"
   ]
  },
  {
   "cell_type": "markdown",
   "metadata": {},
   "source": [
    "$\\mathbf{\\text{Jede Isogenie vom Grad n definiert eine n-Torsionsgruppe}}$"
   ]
  },
  {
   "cell_type": "code",
   "execution_count": 16,
   "metadata": {},
   "outputs": [],
   "source": [
    "E_1 = phi.codomain()"
   ]
  },
  {
   "cell_type": "code",
   "execution_count": 17,
   "metadata": {},
   "outputs": [
    {
     "name": "stdout",
     "output_type": "stream",
     "text": [
      "From: (0 : 1 : 0) to (0 : 1 : 0)\n",
      "From: (1 : 5 : 1) to (16 : 11 : 1)\n",
      "From: (1 : 12 : 1) to (16 : 6 : 1)\n",
      "From: (2 : 4 : 1) to (5 : 8 : 1)\n",
      "From: (2 : 13 : 1) to (5 : 9 : 1)\n",
      "From: (3 : 6 : 1) to (16 : 11 : 1)\n",
      "From: (3 : 11 : 1) to (16 : 6 : 1)\n",
      "From: (5 : 0 : 1) to (0 : 1 : 0)\n",
      "From: (7 : 4 : 1) to (11 : 13 : 1)\n",
      "From: (7 : 13 : 1) to (11 : 4 : 1)\n",
      "From: (8 : 4 : 1) to (5 : 8 : 1)\n",
      "From: (8 : 13 : 1) to (5 : 9 : 1)\n",
      "From: (9 : 8 : 1) to (11 : 4 : 1)\n",
      "From: (9 : 9 : 1) to (11 : 13 : 1)\n",
      "From: (10 : 8 : 1) to (15 : 0 : 1)\n",
      "From: (10 : 9 : 1) to (15 : 0 : 1)\n",
      "From: (15 : 8 : 1) to (9 : 6 : 1)\n",
      "From: (15 : 9 : 1) to (9 : 11 : 1)\n",
      "From: (16 : 2 : 1) to (9 : 11 : 1)\n",
      "From: (16 : 15 : 1) to (9 : 6 : 1)\n"
     ]
    }
   ],
   "source": [
    "for p in E_0.points():\n",
    "    print(\"From: \" + str(p) + \" to \" +  str(phi(p)))"
   ]
  },
  {
   "cell_type": "markdown",
   "metadata": {},
   "source": [
    "***\n",
    "$\\mathbf{\\text{Supersinguläre elliptische Kurven}}$<br>\n",
    "***\n",
    "1.&emsp;Ordinäre elliptische Kurven: $$tors(p) = \\{P_1, ..., \\mathcal{O}\\}$$\n",
    "2.&emsp;Supersinguläre elliptische Kurven: $$tors(p) = \\{\\mathcal{O}\\}$$\n",
    "***"
   ]
  },
  {
   "cell_type": "markdown",
   "metadata": {},
   "source": [
    "Wie in der Arbeit \"QrTOR - Modernes quantenresistentes Onion Routing\" erklärt, können für kryptographische Anwendungen ausschließlich supersinguläre elliptische Kurven verwendet werden. Diese haben die Eigenschaft einen ungewöhnlich großen Endomorphismusring zu besitzen, also ungewöhnlich viele gruppenstruktur-erhaltende Abbildungen auf sich selbst. \\\n",
    "Eine eingänglichere Weise der Definition bietet jedoch die obige Formel, wonach eine elliptische Kurve über dem Feld $GF(p)$ supersingulär ist, sofern ihre $p$-Torsionsgruppe trivial ist (also lediglich das Identitäselement enthält)."
   ]
  },
  {
   "cell_type": "code",
   "execution_count": 18,
   "metadata": {},
   "outputs": [
    {
     "data": {
      "text/plain": [
       "True"
      ]
     },
     "execution_count": 18,
     "metadata": {},
     "output_type": "execute_result"
    }
   ],
   "source": [
    "char = 5\n",
    "E_ss = EllipticCurve(GF(char), [0,1])\n",
    "E_ss.is_supersingular()"
   ]
  },
  {
   "cell_type": "code",
   "execution_count": 19,
   "metadata": {},
   "outputs": [
    {
     "data": {
      "text/plain": [
       "(2 : 3 : 1)"
      ]
     },
     "execution_count": 19,
     "metadata": {},
     "output_type": "execute_result"
    }
   ],
   "source": [
    "gen = E_ss.gens()[0]\n",
    "gen"
   ]
  },
  {
   "cell_type": "code",
   "execution_count": 20,
   "metadata": {},
   "outputs": [
    {
     "data": {
      "text/plain": [
       "[]"
      ]
     },
     "execution_count": 20,
     "metadata": {},
     "output_type": "execute_result"
    }
   ],
   "source": [
    "torsion = char\n",
    "torsion_group = [point for point in E_ss.points() if point.order() == torsion - 1]\n",
    "torsion_group"
   ]
  },
  {
   "cell_type": "code",
   "execution_count": 21,
   "metadata": {},
   "outputs": [
    {
     "data": {
      "text/plain": [
       "False"
      ]
     },
     "execution_count": 21,
     "metadata": {},
     "output_type": "execute_result"
    }
   ],
   "source": [
    "E_ord = EllipticCurve(GF(char), [4,1])\n",
    "E_ord.is_supersingular()"
   ]
  },
  {
   "cell_type": "code",
   "execution_count": 22,
   "metadata": {},
   "outputs": [
    {
     "data": {
      "text/plain": [
       "(0 : 1 : 1)"
      ]
     },
     "execution_count": 22,
     "metadata": {},
     "output_type": "execute_result"
    }
   ],
   "source": [
    "gen_ord = E_ord.gens()[0]\n",
    "gen_ord"
   ]
  },
  {
   "cell_type": "code",
   "execution_count": 23,
   "metadata": {},
   "outputs": [
    {
     "data": {
      "text/plain": [
       "[(4 : 1 : 1), (4 : 4 : 1)]"
      ]
     },
     "execution_count": 23,
     "metadata": {},
     "output_type": "execute_result"
    }
   ],
   "source": [
    "torsion_ord = char\n",
    "torsion_group_ord = [point for point in E_ord.points() if point.order() == torsion_ord - 1]\n",
    "torsion_group_ord"
   ]
  },
  {
   "cell_type": "markdown",
   "metadata": {},
   "source": [
    "## Ein mathematischer Blick auf den SIDH"
   ]
  },
  {
   "cell_type": "markdown",
   "metadata": {},
   "source": [
    "Im Folgenden wird ein beispielhafter Schlüsselaustausch auf Basis von Isogenieberechnungen durchgeführt."
   ]
  },
  {
   "cell_type": "markdown",
   "metadata": {},
   "source": [
    "### Setzen der öffentlichen Parameter"
   ]
  },
  {
   "cell_type": "markdown",
   "metadata": {},
   "source": [
    "#### Primcharacteristik"
   ]
  },
  {
   "cell_type": "code",
   "execution_count": 24,
   "metadata": {},
   "outputs": [
    {
     "data": {
      "text/plain": [
       "True"
      ]
     },
     "execution_count": 24,
     "metadata": {},
     "output_type": "execute_result"
    }
   ],
   "source": [
    "lA = 2 ** 8\n",
    "lB = 3 ** 5\n",
    "p = lA*lB - 1\n",
    "p.is_prime()"
   ]
  },
  {
   "cell_type": "markdown",
   "metadata": {},
   "source": [
    "#### Definitionsfeld"
   ]
  },
  {
   "cell_type": "code",
   "execution_count": 25,
   "metadata": {},
   "outputs": [],
   "source": [
    "_.<I> = GF(p)[]\n",
    "K.<i> = GF(p^2, modulus=I^2+1)"
   ]
  },
  {
   "cell_type": "markdown",
   "metadata": {},
   "source": [
    "#### Elliptische Kurve"
   ]
  },
  {
   "cell_type": "code",
   "execution_count": 26,
   "metadata": {},
   "outputs": [
    {
     "data": {
      "text/plain": [
       "True"
      ]
     },
     "execution_count": 26,
     "metadata": {},
     "output_type": "execute_result"
    }
   ],
   "source": [
    "E = EllipticCurve(K, [1, 0])\n",
    "E.is_supersingular()"
   ]
  },
  {
   "cell_type": "markdown",
   "metadata": {},
   "source": [
    "#### Torsions/Isogenie Generatoren"
   ]
  },
  {
   "cell_type": "code",
   "execution_count": 27,
   "metadata": {},
   "outputs": [
    {
     "name": "stdout",
     "output_type": "stream",
     "text": [
      "(48314*i + 14762 : 46157*i + 12824 : 1) with Order 256\n",
      "(2043*i + 16611 : 44347*i + 58767 : 1) with Order 256\n",
      "(10750*i + 15084 : 21370*i + 13539 : 1) with Order 243\n",
      "(60522*i + 47624 : 56832*i + 45130 : 1) with Order 243\n"
     ]
    }
   ],
   "source": [
    "P_a = E(48314*i + 14762 , 46157*i + 12824 , 1)\n",
    "Q_a = E(2043*i + 16611 , 44347*i + 58767 , 1)\n",
    "P_b = E(10750*i + 15084 , 21370*i + 13539 , 1)\n",
    "Q_b = E(60522*i + 47624 , 56832*i + 45130 , 1)\n",
    "\n",
    "print(str(P_a) + \" with Order \" + str(P_a.order()))\n",
    "print(str(Q_a) + \" with Order \" + str(Q_a.order()))\n",
    "print(str(P_b) + \" with Order \" + str(P_b.order()))\n",
    "print(str(Q_b) + \" with Order \" + str(Q_b.order()))"
   ]
  },
  {
   "cell_type": "markdown",
   "metadata": {},
   "source": [
    "### Berechnung der geheimen und der öffentlichen Schlüssel"
   ]
  },
  {
   "cell_type": "markdown",
   "metadata": {},
   "source": [
    "#### Alice"
   ]
  },
  {
   "cell_type": "code",
   "execution_count": 28,
   "metadata": {},
   "outputs": [
    {
     "data": {
      "text/plain": [
       "(30140*i + 52660 : 48843*i + 60323 : 1)"
      ]
     },
     "execution_count": 28,
     "metadata": {},
     "output_type": "execute_result"
    }
   ],
   "source": [
    "S_a = randint(0, 2^8-1)\n",
    "R = P_a + S_a * Q_a\n",
    "R"
   ]
  },
  {
   "cell_type": "code",
   "execution_count": 29,
   "metadata": {},
   "outputs": [
    {
     "name": "stdout",
     "output_type": "stream",
     "text": [
      "Isogeny of degree 256 from Elliptic Curve defined by y^2 = x^3 + x over Finite Field in i of size 62207^2 to Elliptic Curve defined by y^2 = x^3 + (36605*i+31278)*x + (3952*i+1907) over Finite Field in i of size 62207^2\n"
     ]
    }
   ],
   "source": [
    "isogenyA = E.isogeny(R)\n",
    "print(isogenyA)"
   ]
  },
  {
   "cell_type": "code",
   "execution_count": 30,
   "metadata": {},
   "outputs": [
    {
     "name": "stdout",
     "output_type": "stream",
     "text": [
      "True\n"
     ]
    },
    {
     "data": {
      "text/plain": [
       "Elliptic Curve defined by y^2 = x^3 + (36605*i+31278)*x + (3952*i+1907) over Finite Field in i of size 62207^2"
      ]
     },
     "execution_count": 30,
     "metadata": {},
     "output_type": "execute_result"
    }
   ],
   "source": [
    "E_a = isogenyA.codomain()\n",
    "\n",
    "print(E_a.is_supersingular())\n",
    "E_a"
   ]
  },
  {
   "cell_type": "code",
   "execution_count": 31,
   "metadata": {},
   "outputs": [
    {
     "data": {
      "text/plain": [
       "(Elliptic Curve defined by y^2 = x^3 + (36605*i+31278)*x + (3952*i+1907) over Finite Field in i of size 62207^2,\n",
       " (60911*i + 51118 : 7766*i + 10434 : 1),\n",
       " (25099*i + 43799 : 45246*i + 30237 : 1))"
      ]
     },
     "execution_count": 31,
     "metadata": {},
     "output_type": "execute_result"
    }
   ],
   "source": [
    "E_a, phi_Pb, phi_Qb = E_a, isogenyA(P_b), isogenyA(Q_b)\n",
    "E_a, phi_Pb, phi_Qb"
   ]
  },
  {
   "cell_type": "markdown",
   "metadata": {},
   "source": [
    "***"
   ]
  },
  {
   "cell_type": "markdown",
   "metadata": {},
   "source": [
    "#### Bob"
   ]
  },
  {
   "cell_type": "code",
   "execution_count": 32,
   "metadata": {},
   "outputs": [
    {
     "data": {
      "text/plain": [
       "(59196*i + 14747 : 28849*i + 52231 : 1)"
      ]
     },
     "execution_count": 32,
     "metadata": {},
     "output_type": "execute_result"
    }
   ],
   "source": [
    "S_b = randint(0, 3^5-1)\n",
    "R = P_b + S_b * Q_b\n",
    "R"
   ]
  },
  {
   "cell_type": "code",
   "execution_count": 33,
   "metadata": {},
   "outputs": [
    {
     "data": {
      "text/plain": [
       "Isogeny of degree 243 from Elliptic Curve defined by y^2 = x^3 + x over Finite Field in i of size 62207^2 to Elliptic Curve defined by y^2 = x^3 + (49450*i+16753)*x + (43821*i+15786) over Finite Field in i of size 62207^2"
      ]
     },
     "execution_count": 33,
     "metadata": {},
     "output_type": "execute_result"
    }
   ],
   "source": [
    "isogenyB = E.isogeny(R)\n",
    "isogenyB"
   ]
  },
  {
   "cell_type": "code",
   "execution_count": 34,
   "metadata": {},
   "outputs": [
    {
     "name": "stdout",
     "output_type": "stream",
     "text": [
      "True\n"
     ]
    },
    {
     "data": {
      "text/plain": [
       "Elliptic Curve defined by y^2 = x^3 + (49450*i+16753)*x + (43821*i+15786) over Finite Field in i of size 62207^2"
      ]
     },
     "execution_count": 34,
     "metadata": {},
     "output_type": "execute_result"
    }
   ],
   "source": [
    "E_b = isogenyB.codomain()\n",
    "\n",
    "print(E_b.is_supersingular())\n",
    "E_b"
   ]
  },
  {
   "cell_type": "code",
   "execution_count": 35,
   "metadata": {},
   "outputs": [
    {
     "data": {
      "text/plain": [
       "(Elliptic Curve defined by y^2 = x^3 + (49450*i+16753)*x + (43821*i+15786) over Finite Field in i of size 62207^2,\n",
       " (44905*i + 14667 : 22763*i + 44548 : 1),\n",
       " (2718*i + 32258 : 54815*i + 30726 : 1))"
      ]
     },
     "execution_count": 35,
     "metadata": {},
     "output_type": "execute_result"
    }
   ],
   "source": [
    "E_b, psi_Pa, psi_Qa = E_b, isogenyB(P_a), isogenyB(Q_a)\n",
    "E_b, psi_Pa, psi_Qa"
   ]
  },
  {
   "cell_type": "markdown",
   "metadata": {},
   "source": [
    "### Berechnung des gemeinsamen Geheimnis"
   ]
  },
  {
   "cell_type": "code",
   "execution_count": 36,
   "metadata": {},
   "outputs": [
    {
     "data": {
      "text/plain": [
       "4285*i + 17425"
      ]
     },
     "execution_count": 36,
     "metadata": {},
     "output_type": "execute_result"
    }
   ],
   "source": [
    "E_b.isogeny(psi_Pa + S_a*psi_Qa).codomain().j_invariant()"
   ]
  },
  {
   "cell_type": "markdown",
   "metadata": {},
   "source": [
    "****"
   ]
  },
  {
   "cell_type": "code",
   "execution_count": 37,
   "metadata": {},
   "outputs": [
    {
     "data": {
      "text/plain": [
       "4285*i + 17425"
      ]
     },
     "execution_count": 37,
     "metadata": {},
     "output_type": "execute_result"
    }
   ],
   "source": [
    "E_a.isogeny(phi_Pb + S_b*phi_Qb).codomain().j_invariant()"
   ]
  },
  {
   "cell_type": "markdown",
   "metadata": {},
   "source": [
    "## Das Problem hinter dem SIDH"
   ]
  },
  {
   "cell_type": "markdown",
   "metadata": {},
   "source": [
    "Finde einen Algorithmus, der folgendes Problem in subexponentieller Zeit löst </br>\n",
    "$$algorithm(E_0, E_1, deg(\\phi)) = \\phi;\\ \\phi : E_0 \\rightarrow E_1$$"
   ]
  },
  {
   "cell_type": "code",
   "execution_count": 38,
   "metadata": {},
   "outputs": [],
   "source": [
    "E_0 = EllipticCurve([6,7])\n",
    "E_1 = EllipticCurve([-39,70])"
   ]
  },
  {
   "cell_type": "code",
   "execution_count": 39,
   "metadata": {},
   "outputs": [],
   "source": [
    "E_1 = EllipticCurve([-39,70])"
   ]
  },
  {
   "cell_type": "code",
   "execution_count": 40,
   "metadata": {},
   "outputs": [
    {
     "data": {
      "text/plain": [
       "Isogeny of degree 2 from Elliptic Curve defined by y^2 = x^3 + 6*x + 7 over Rational Field to Elliptic Curve defined by y^2 = x^3 - 39*x + 70 over Rational Field"
      ]
     },
     "execution_count": 40,
     "metadata": {},
     "output_type": "execute_result"
    }
   ],
   "source": [
    "EllipticCurveIsogeny(E_0, kernel = None, codomain = E_1, degree = 2)"
   ]
  },
  {
   "cell_type": "markdown",
   "metadata": {},
   "source": [
    "Der schnellste (öffentlich bekannte) Algorithmus zur Berechnung einer Isogenie, bei gegebener Ur- und Bildkurve, benötigt\n",
    "1. auf einem klassischen Computer: $$O(p^{\\frac{1}{4}})$$\n",
    "2. auf einem Quantencomputer: $$O(p^{\\frac{1}{6}})$$"
   ]
  },
  {
   "cell_type": "markdown",
   "metadata": {},
   "source": [
    "## Ein Kompositionsalgorithmus zur effizienten Berechnung von Isogenien"
   ]
  },
  {
   "cell_type": "markdown",
   "metadata": {},
   "source": [
    "Ein großes Problem für isogeniebasierte Kryptosysteme geht von der hohen Komplexität der Berechnungen von Isogenien aus. Wie oben besprochen, wird eine Isogenie stets aus der Urbild-Kurve und aus dem Kern der zu berechnenden Isogenie konstruiert. Die Anzahl der Elemente innerhalb des Kerns ist dabei gleich dem Grad der Isogenie. \\\n",
    "Für kryptographische Anwendungen werden Isogenien mit sehr hohen Graden benötigt [3], um Kryptoanalysealgorithmen standzuhalten. Im Notebook \"Optimierungen\" werden zum Beispiel Isogenien vom Grad $2^{250}$ verwendet. Um eine solche Isogenie zu berechnen benötigt man also die Urbildkurve $E_0$ und die $2^{250}$-Torsionsgruppe dieser Kurve. \\\n",
    "Um letztere zu berechnen könnte man den obigen \"Algorithmus\" verwenden, der auf alle Punkte der Kurve $E_0$ eine $2^{250}$-Skalarmultiplikation anwendet und prüft, ob das Ergebnis gleich dem Identitätselement ist. Dieser hätte dabei eine Zeitkomplexität von $O(order(E_0))$, wobei zusätzlich bei jeder Iteration die kostspielige $2^{250}$-Skalarmultiplikation berechnet werden muss. Dieser Algorithmus kommt also für einen praktischen Einsatz nicht in Frage. \\\n",
    "Lange Zeit (ca. 1990 - 2011) herrschte ein Mangel an Algorithmen, die dieses Problem effizient lösen. Daher wurden isogeniebasierte Kryptosysteme in dieser Zeit innerhalb der Post-Quanten-Kryptographie vernachlässigt. Erst nach dem Vorschlag eines solchen Algorithmus, mit effizienter Laufzeit konnten praxistaugliche kryptographische Protokolle implementiert werden [2]."
   ]
  },
  {
   "cell_type": "markdown",
   "metadata": {},
   "source": [
    "Die Kernidee hinter diesem Algorithmus ist dabei folgende:\n",
    "Eine Isogenie $\\phi$ des Grads $l^e$ kann auch als $e$ Isogenien des Grads $l$ ausgedrückt werden. Dann gilt: $$\\phi = \\underbrace{\\phi_0 \\oplus \\phi_1 \\oplus \\dots \\oplus \\phi_{e-1}}_{e-mal}$$\n",
    "Eine Isogenie mit dieser Eigenschaft wird auch als separable Isogenie bezeichnet.\n",
    "Der Algorithmus, der sich diese Eigenschaft zunutze macht wir nun im Folgenden besprochen."
   ]
  },
  {
   "cell_type": "markdown",
   "metadata": {},
   "source": [
    "Zunächst wird der geheime Generatorpunkt $R$ ausgewählt, der die Ordnung $l^e$ besitzt. Durch diesen Punkt $R$ wird nun mittels der $l^{e-1}$-Skalarmultiplikation der Punkt $R_0 = [l^{e-1}]R$ berechnet. Dieser Punkt $R_0$ hat selbstverständlich die Ordnung $l$. Mithilfe dieses Punktes $R_0$ wird nun die erste Isogenie $\\phi_0$ berechnet und der intiale Punkt $R$ wird durch $\\phi_0$ auf das Bild $\\phi_0(R)$ abgebildet. Dieser Bildpunkt hat nun wiederum die Ordnung $l^{e-1}$. \\\n",
    "Dann kann der Prozess wiederholt werden. Der Bildpunkt $\\phi_0(R)$ wird nun durch die $l^{e-2}$ Skalarmultiplikation auf einen Punkt der Ordnung $l$ abgebildet. Dieser wird wieder zur Berechnung einer Isogenie $\\phi_1$ verwendet und durch diese abgebildet. Der Prozess wird insgesamt also $e$-mal wiederholt [2]. \\\n",
    "Die bekannten Eigenschaften der Isogenieberechnungen bleiben dabei gleich. Sowohl alle einzelnen als auch die zusammengesetzte Isogenie wird eindeutig durch den Generatorpunkt (bzw. dem von diesem aufgespannten Kern) definiert. \\\n",
    "Dieser Algorithmus besitzt somit eine konstante Zeitkomplexität von $O(e)$."
   ]
  },
  {
   "cell_type": "markdown",
   "metadata": {},
   "source": [
    "Nun kann schlussendlich auf dieser Grundlage ein Algorithmus definiert werden, der eine noch deutlich geringere Komplexiät besitzt und daher auch durch den SIDHforJ implementiert wird. \\\n",
    "Erinnern wir uns daran, dass während der ersten Skalarmultiplikation $R_0 = [l^{e-1}]R$ selbstverständlich jedes Zwischenergebnis (jedes Resultat der $k$-Skalarmultilpikation) gespeichert werden kann. Nehmen wir nun an, dass ein solcher Punkt $Q = [l^{d}]R$ gespeichert wurde. Nachdem die Isogenie $\\phi$ durch den Punkt $R_0$ berechnet wurde, wird nun nicht der Punkt $R_0$ sondern der Punkt $Q$ durch die Isogenie abgebildet. Mittels des Bilds des Punktes durch die Isogenie $\\phi(Q)$ wird nun der nächste Generator $R_1 = [l^{e-d-2}]$ durch den Punkt $Q$ berechnet. Mittels dieser Methode sparen wir uns also in diesem Durchgang $d$ Skalarmulitplikationen auf der ersten Bildkurve. Je höher wir den Parameter $d$ wählen, desto weniger Skalarmultiplikationen müssen wir auf der Bildkurve durchführen. Jedoch wird bei steigenden $d$ die Anzahl der möglichen Punkte $Q$ kleiner, da schließlich gilt:  $Q = [l^{d}]R$ [2].\n",
    "Es gilt nun, für jede Iteration dieses Algorithmus den \"besten\" Parameter $d$ zu finden. Dieses Optimierungsproblem kann bei gegebener initialer Kurve und gegebenen Generatorenpunkten bereits gelöst werden, sodass diese \"Parameterstrategie\" in der Praxis Teil der öffentlichen Parameter wird."
   ]
  },
  {
   "cell_type": "markdown",
   "metadata": {},
   "source": [
    "Die im SIDHforJ verwendete Liste **splitA**, bzw. **splitsB** innerhalb der öffentlichen Parameter enthält dabei für jede Iteration des genannten Algorithmus den \"besten\" Parameter. Die Anzahl der Einträge dieser Liste, die durch die Parameter **maxA**, bzw, **maxB** gespeichert wird, gibt dabei die Anzahl der Iterationen an, die der Algorithmus durchlaufen muss."
   ]
  },
  {
   "cell_type": "markdown",
   "metadata": {},
   "source": [
    "# Referenzen\n",
    "_[1]_ Towards Quantum-Resistant Cryptosystems from Supersingular Elliptic Curve Isogenies; Jao David, De Feo Luca; 2011 PQCrypto 2011\\\n",
    "_[2]_ Public-Key Cryptosystem Based on Isogenies; Rostovtsev Alexander, Stolbunov Anton; 2006 DBLP \\\n",
    "_[3]_ Mathematics of Isogeny Based Cryptography; De Feo Luca; 2017 Université de Versailles\\\n",
    "_[4]_ Understanding Cryptography; Paar Christof, Pelzl Jan; 2010 Springer"
   ]
  },
  {
   "cell_type": "markdown",
   "metadata": {},
   "source": [
    "***\n",
    "&copy; 2021, Linus Meierhöfer"
   ]
  }
 ],
 "metadata": {
  "kernelspec": {
   "display_name": "Python 3",
   "language": "python",
   "name": "python3"
  },
  "language_info": {
   "codemirror_mode": {
    "name": "ipython",
    "version": 3
   },
   "file_extension": ".py",
   "mimetype": "text/x-python",
   "name": "python",
   "nbconvert_exporter": "python",
   "pygments_lexer": "ipython3",
   "version": "3.8.3"
  }
 },
 "nbformat": 4,
 "nbformat_minor": 5
}
