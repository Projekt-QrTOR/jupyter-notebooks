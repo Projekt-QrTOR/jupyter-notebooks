{
 "cells": [
  {
   "cell_type": "markdown",
   "id": "renewable-seafood",
   "metadata": {},
   "source": [
    "# Demonstration des Shors Algorithmus zum Brechen des DLP"
   ]
  },
  {
   "cell_type": "markdown",
   "id": "armed-command",
   "metadata": {},
   "source": [
    "Dieses Notebook benötigt das Jupyter-Python-3-Kernel"
   ]
  },
  {
   "cell_type": "markdown",
   "id": "according-psychology",
   "metadata": {},
   "source": [
    "Dieses Notebook erläutert die Funktionsweise des Shor's Algorithmus. Zudem wird eine Quantencomputersimulation durchgeführt, die den Shor's Algorithmus implementiert."
   ]
  },
  {
   "cell_type": "code",
   "execution_count": 1,
   "id": "innocent-navigation",
   "metadata": {},
   "outputs": [],
   "source": [
    "import matplotlib.pyplot as plt\n",
    "import numpy as np\n",
    "from qiskit import QuantumCircuit, Aer, execute\n",
    "from qiskit.visualization import plot_histogram\n",
    "from math import gcd\n",
    "from numpy.random import randint\n",
    "from fractions import Fraction\n",
    "import pandas as pd"
   ]
  },
  {
   "cell_type": "markdown",
   "id": "fifty-polls",
   "metadata": {},
   "source": [
    "## Der Shors Algorithmus"
   ]
  },
  {
   "cell_type": "markdown",
   "id": "square-frontier",
   "metadata": {},
   "source": [
    "Wie in der Arbeit \"QrTOR - Modernes quantenresistentes Onion Routing\" beschrieben, stellt der Shors Algorithmus die größte kryptographische Gefahr für asymmetrische Kryptosysteme dar. In diesem Notebook wird dieser Algorithmus erklärt und auf ein einfaches Beispiel angewandt. Um den Inhalt dieses Notebook nachvollziehen zu können, werden Kenntnisse der Quanteninformationstheorie sowie der linearen Algebra benötigt. Auch wird der Quantenphasenschätzungsalgorithmus verwendet, der in diesem Notebook nicht erklärt wird."
   ]
  },
  {
   "cell_type": "markdown",
   "id": "casual-indonesia",
   "metadata": {},
   "source": [
    "Im Kern des Shors Algorithmus steht die Lösung des \"Period-Finding-Problem\" in subexponentieller Komplexität. Das Period-Finding-Problem lautet wie folgt: \n",
    "Gegeben sind die diskrete periodische Funktion $f(x)$ wobei für jedes Element $x$ ein Element $p$ existiert, sodass gilt: $f(x) = f(x + p)$\n",
    "\n",
    "Der Shor's Algorithmus berechnet nun zu einer gegebenen periodischen Funktion $f$ und einem Element $x$ die Periode $p$ des Elements $x$ in Bezug auf $f$ \n",
    "Es kann gezeigt werden, dass sich sämtliche kryptographische Probleme auf das \"Period-Finding-Problem\" reduzieren lassen. \n",
    "Daher sind beipielsweise der RSA, Diffie-Hellman und der Diffie-Hellman auf Basis elliptischer Kurven nicht quantensicher, da deren mathematische Probleme auf das \"Period-Finding-Problem\" reduziert und damit durch den Shor's Algorithmus gelöst werden können. \n",
    "Die Zeitkomplexität des Shor's Algorithmus beträgt dabei $O(poly(log(n)))$"
   ]
  },
  {
   "cell_type": "markdown",
   "id": "mathematical-binding",
   "metadata": {},
   "source": [
    "## Der Quantencomputer"
   ]
  },
  {
   "cell_type": "markdown",
   "id": "focused-ethiopia",
   "metadata": {},
   "source": [
    "Wir nehmen an, dass wir einen fehlertoleranten Quantencomputer mit einem Qubit-Register von $2^N$ Qubits zu Verfügung haben. _[1]_ $$\\underbrace{q_0 \\otimes q_1 \\otimes q_2 \\otimes \\cdots \\otimes q_{2^N}}_{Qubit-Register}$$"
   ]
  },
  {
   "cell_type": "markdown",
   "id": "retired-portland",
   "metadata": {},
   "source": [
    "Wie in der Quanteninformationstheorie üblich, wird jedes einzelne Qubit durch einen Zustandsvektor folgender Form dargestellt: $$q_n = \\begin{pmatrix}a_n\\\\b_n\\end{pmatrix}$$  Die Einträge des Vektors sind dabei komplexe Zahlen _[1]_."
   ]
  },
  {
   "cell_type": "markdown",
   "id": "composite-treasury",
   "metadata": {},
   "source": [
    "Um nun Zahlen in einem Quantenregister darzustellen, verwenden wir die gleiche Binärcodierung wie in der klassischen Informationstheorie. So würde zum Beispiel die Zahl $3$ in einem $2$-Qubitregister folgendermaßen dargestellt werden: $$| 3 \\rangle = |11\\rangle$$ \\\n",
    "Der Zustandsverktor des gesammten $2$-Qubitregisters wäre also: $$state = \\begin{pmatrix} amp_{| 00 \\rangle}\\\\amp_{| 01 \\rangle}\\\\amp_{| 10 \\rangle}\\\\amp_{| 11 \\rangle} \\end{pmatrix} = \\begin{pmatrix} amp_{| 0 \\rangle}\\\\ amp_{| 1 \\rangle} \\\\ amp{| 2 \\rangle} \\\\ amp{| 3 \\rangle} \\end{pmatrix}$$"
   ]
  },
  {
   "cell_type": "markdown",
   "id": "tamil-haiti",
   "metadata": {},
   "source": [
    "Die Wahrscheinlichkeit das Quantenregister nach einer Messung im Zustand $| 3 \\rangle$ vorzufinden, wäre also durch $p(| 3 \\rangle) = |amp_{| 11 \\rangle}|^2$ gegeben"
   ]
  },
  {
   "cell_type": "markdown",
   "id": "funky-warren",
   "metadata": {},
   "source": [
    "## Die Kernidee des Shors Algorithmus"
   ]
  },
  {
   "cell_type": "markdown",
   "id": "charming-highland",
   "metadata": {},
   "source": [
    "Wir versuchen nun das Diskrete Logarithmus Problem mit unserem Quantencomputer zu lösen. Dafür definieren wir den unitären Operator, der die Modularmultiplikation durchführt: $$U^r|y \\rangle = |y^r \\ mod N \\rangle$$ \n",
    "Ein einfaches Beispiel mit $ N = 9 \\ ; \\ y = 2$: \n",
    "$$U^1|2 \\rangle = |2 * 2 \\ mod 9 \\rangle = |4 \\rangle$$ \n",
    "$$U^2|1 \\rangle = |4 * 2 \\ mod 9 \\rangle = |8 \\rangle$$ \n",
    "$$U^3|1 \\rangle = |8 * 2 \\ mod 9 \\rangle = |7 \\rangle$$ \n",
    "$$U^4|1 \\rangle = |7 * 2 \\ mod 9 \\rangle = |5 \\rangle$$ \n",
    "$$U^5|1 \\rangle = |5 * 2 \\ mod 9 \\rangle = |1 \\rangle$$\n",
    "$$U^6|1 \\rangle = |1 * 2 \\ mod 9 \\rangle = |2 \\rangle$$\n",
    "Die Menge $M = \\{ 4, 8, 7, 5, 1, 2\\}$ spannen also die zyklische Gruppe von $y = 2$ auf"
   ]
  },
  {
   "cell_type": "markdown",
   "id": "personalized-desire",
   "metadata": {},
   "source": [
    "Nun ergibt sich die interessante Eigenschaft, dass der Zustandsvektor $|u_0 \\rangle$, bestehend aus der Superposition der Zustände der Menge $M$, der Eigenvektor des Operators $U$ ist. _[1]_\n",
    "$$|u_0 \\rangle = \\frac{1}{\\sqrt{r}} \\sum_{k = 0}^{r - 1}{|y^k mod N\\rangle}$$"
   ]
  },
  {
   "cell_type": "markdown",
   "id": "monthly-maintenance",
   "metadata": {},
   "source": [
    "Um in dem eben beschriebenen Beipiel zu bleiben: \n",
    "$$|u_0 \\rangle = \\frac{1}{6} (|4 \\rangle + |8 \\rangle + |7 \\rangle + |5 \\rangle + |1 \\rangle + |2 \\rangle)$$\n",
    "Da gilt:\n",
    "$$U|u_0 \\rangle = \\frac{1}{6} (U|4 \\rangle + U|8 \\rangle + U|7 \\rangle + U|5 \\rangle + U|1 \\rangle + U|2 \\rangle) =$$\n",
    "$$= \\frac{1}{6} (|8 \\rangle + |7 \\rangle + |5 \\rangle + |1 \\rangle + |2 \\rangle + |4 \\rangle) = 1|u \\rangle$$ \n",
    "ist $|u_0 \\rangle$ der Eigenvektor von $U$ und $k=1$ der dazugehörige Eigenwert"
   ]
  },
  {
   "cell_type": "markdown",
   "id": "roman-madison",
   "metadata": {},
   "source": [
    "Eine $k * k$ Matrix hat genau $k$ Eigenwerte. Da es sich bei unserem unitären Operator $U$ um eine $2^n * 2^n$ Matrix ($n$-Qubits) handelt, hat dieser also mehr Eigenvektoren und Eigenwerte als den oben berechneten Wert _[3]_.\n",
    "Tatsächlich ist der oben berechnete Eigenwert uninteressant, da er den Wert $1$ besitzt. Interessanter wird es, wenn die einzelnen Zustände des Eigenvektors $|u\\rangle$ unterschiedliche Phasen aufweisen."
   ]
  },
  {
   "cell_type": "markdown",
   "id": "focused-introduction",
   "metadata": {},
   "source": [
    "$$|u_1\\rangle = \\frac{1}{\\sqrt{r}}\\sum_{k=0}^{r-1}e^{-\\tfrac{2\\pi i k}{r}}|y^k mod N\\rangle$$"
   ]
  },
  {
   "cell_type": "markdown",
   "id": "revised-bradley",
   "metadata": {},
   "source": [
    "Es ist zu beachten, dass die Phasen der unterschiedlichen Zustände zwangläufig von $r$ abhängig sein müssen, da auch die Eigenvektoren normiert sein müssen, um einen qunatenmechanischen Zustand zu beschreiben _[1]_"
   ]
  },
  {
   "cell_type": "markdown",
   "id": "insured-panel",
   "metadata": {},
   "source": [
    "$$|u_1\\rangle = \\tfrac{1}{\\sqrt{6}}(|4\\rangle + e^{-\\tfrac{2\\pi i}{6}}|8\\rangle + e^{-\\tfrac{4\\pi i}{6}}|7\\rangle + e^{-\\tfrac{6\\pi i}{6}}|5\\rangle + e^{-\\tfrac{8\\pi i}{6}}|1\\rangle)\n",
    "+ e^{-\\tfrac{10\\pi i}{6}}|1\\rangle)$$\n",
    "$$ U|u_1\\rangle = e^{\\tfrac{2\\pi i}{6}}|u_1\\rangle $$"
   ]
  },
  {
   "cell_type": "markdown",
   "id": "lonely-professional",
   "metadata": {},
   "source": [
    "Diese Methode kann nun verallgemeinert werden, sodass für jede Ganzzahl $s < N$ ein eigener Eigenvektor existiert:\n",
    "$$|u_s\\rangle = \\tfrac{1}{\\sqrt{r}}\\sum_{k=0}^{r-1}{e^{-\\tfrac{2\\pi i s k}{r}}|a^k \\bmod N\\rangle} $$\n",
    "$$ U|u_s\\rangle = e^{\\tfrac{2\\pi i s}{r}}|u_s\\rangle $$"
   ]
  },
  {
   "cell_type": "markdown",
   "id": "canadian-national",
   "metadata": {},
   "source": [
    "Wenn wir nun alle diese Eigenvektoren aufsummieren $|u_0\\rangle + |u_1\\rangle + |u_2\\rangle + \\dots + |u_s\\rangle$ erhalten wir den Zustandsvektor $|1\\rangle$, da sich die Phasen aller anderen Zustände durch deren Inteferenz aufheben. Dies soll jedoch nicht darüber hinwegtäuschen, dass dieser Zustandsvektor $|1\\rangle$ lediglich die Superposition aus den Eigenvektoren $|u_0\\rangle$ bis $|u_s\\rangle$ ist. Aus genau diesem Grund können wir daher einfach aus dem zusammengesetzten Eigenvektor $|1\\rangle$ und dem unitären Operator $U$ den Eigenwert $\\phi$ berechnen, der immer in der Form $\\phi = \\frac{s}{r}$ vorliegt. Diese Berechnung wird mit dem berühmten Quanten-Phasenschätzungalgorithmus durchgeführt. \n",
    "Schließlich kann mittel eines klassischen Algorithmus der Nenner $r$ extrahiert werden _[1]_."
   ]
  },
  {
   "cell_type": "markdown",
   "id": "addressed-ability",
   "metadata": {},
   "source": [
    "## Implementierung"
   ]
  },
  {
   "cell_type": "markdown",
   "id": "acknowledged-swedish",
   "metadata": {},
   "source": [
    "Wir führen nun eine Quantencomputersimulation durch, wobei wir folgendes Problem mit dem Shors Algorithmus lösen wollen: $$7^r = 1 \\ mod \\ 15$$"
   ]
  },
  {
   "cell_type": "markdown",
   "id": "revolutionary-arrival",
   "metadata": {},
   "source": [
    "Als erstes müssen wir unser Quantengatter definieren, welches später die Modularmultiplikation durchführen soll"
   ]
  },
  {
   "cell_type": "markdown",
   "id": "direct-lincoln",
   "metadata": {},
   "source": [
    "Der Code hierfür wurde der Referenz _[2]_ entnommen und entsprechen angepasst"
   ]
  },
  {
   "cell_type": "code",
   "execution_count": 2,
   "id": "considerable-territory",
   "metadata": {},
   "outputs": [],
   "source": [
    "def c_amod15(a, power):\n",
    "    U = QuantumCircuit(4)        \n",
    "    for iteration in range(power):\n",
    "        if a in [2,13]:\n",
    "            U.swap(0,1)\n",
    "            U.swap(1,2)\n",
    "            U.swap(2,3)\n",
    "        if a in [7,8]:\n",
    "            U.swap(2,3)\n",
    "            U.swap(1,2)\n",
    "            U.swap(0,1)\n",
    "        if a == 11:\n",
    "            U.swap(1,3)\n",
    "            U.swap(0,2)\n",
    "        if a in [7,11,13]:\n",
    "            for q in range(4):\n",
    "                U.x(q)\n",
    "    U = U.to_gate()\n",
    "    U.name = \"%i^%i mod 15\" % (a, power)\n",
    "    c_U = U.control()\n",
    "    return c_U"
   ]
  },
  {
   "cell_type": "markdown",
   "id": "encouraging-maximum",
   "metadata": {},
   "source": [
    "Nun definieren wir die Parameter, wobei wir 8 klassische Bits in unserem Quantenregister benötigen"
   ]
  },
  {
   "cell_type": "code",
   "execution_count": 3,
   "id": "ancient-intro",
   "metadata": {},
   "outputs": [],
   "source": [
    "n_count = 8\n",
    "a = 7"
   ]
  },
  {
   "cell_type": "markdown",
   "id": "adjacent-niagara",
   "metadata": {},
   "source": [
    "Als nächstes definieren wir die inverse Fouriertransformation, die später die eigentliche Quantenphasenschätzung durchführt"
   ]
  },
  {
   "cell_type": "code",
   "execution_count": 4,
   "id": "effective-marker",
   "metadata": {},
   "outputs": [],
   "source": [
    "def qft_dagger(n):\n",
    "    qc = QuantumCircuit(n)\n",
    "    for qubit in range(n//2):\n",
    "        qc.swap(qubit, n-qubit-1)\n",
    "    for j in range(n):\n",
    "        for m in range(j):\n",
    "            qc.cp(-np.pi/float(2**(j-m)), m, j)\n",
    "        qc.h(j)\n",
    "    qc.name = \"QFT†\"\n",
    "    return qc"
   ]
  },
  {
   "cell_type": "markdown",
   "id": "acknowledged-afternoon",
   "metadata": {},
   "source": [
    "Dies ist der eigentliche Shors Algorithmus"
   ]
  },
  {
   "cell_type": "code",
   "execution_count": 5,
   "id": "minute-pattern",
   "metadata": {},
   "outputs": [
    {
     "data": {
      "text/html": [
       "<pre style=\"word-wrap: normal;white-space: pre;background: #fff0;line-height: 1.1;font-family: &quot;Courier New&quot;,Courier,monospace\">      ┌───┐                                                            »\n",
       " q_0: ┤ H ├───────■────────────────────────────────────────────────────»\n",
       "      ├───┤       │                                                    »\n",
       " q_1: ┤ H ├───────┼──────────────■─────────────────────────────────────»\n",
       "      ├───┤       │              │                                     »\n",
       " q_2: ┤ H ├───────┼──────────────┼──────────────■──────────────────────»\n",
       "      ├───┤       │              │              │                      »\n",
       " q_3: ┤ H ├───────┼──────────────┼──────────────┼──────────────■───────»\n",
       "      ├───┤       │              │              │              │       »\n",
       " q_4: ┤ H ├───────┼──────────────┼──────────────┼──────────────┼───────»\n",
       "      ├───┤       │              │              │              │       »\n",
       " q_5: ┤ H ├───────┼──────────────┼──────────────┼──────────────┼───────»\n",
       "      ├───┤       │              │              │              │       »\n",
       " q_6: ┤ H ├───────┼──────────────┼──────────────┼──────────────┼───────»\n",
       "      ├───┤       │              │              │              │       »\n",
       " q_7: ┤ H ├───────┼──────────────┼──────────────┼──────────────┼───────»\n",
       "      └───┘┌──────┴──────┐┌──────┴──────┐┌──────┴──────┐┌──────┴──────┐»\n",
       " q_8: ─────┤0            ├┤0            ├┤0            ├┤0            ├»\n",
       "           │             ││             ││             ││             │»\n",
       " q_9: ─────┤1            ├┤1            ├┤1            ├┤1            ├»\n",
       "           │  7^1 mod 15 ││  7^2 mod 15 ││  7^4 mod 15 ││  7^8 mod 15 │»\n",
       "q_10: ─────┤2            ├┤2            ├┤2            ├┤2            ├»\n",
       "      ┌───┐│             ││             ││             ││             │»\n",
       "q_11: ┤ X ├┤3            ├┤3            ├┤3            ├┤3            ├»\n",
       "      └───┘└─────────────┘└─────────────┘└─────────────┘└─────────────┘»\n",
       " c: 8/═════════════════════════════════════════════════════════════════»\n",
       "                                                                       »\n",
       "«                                                                       »\n",
       "« q_0: ─────────────────────────────────────────────────────────────────»\n",
       "«                                                                       »\n",
       "« q_1: ─────────────────────────────────────────────────────────────────»\n",
       "«                                                                       »\n",
       "« q_2: ─────────────────────────────────────────────────────────────────»\n",
       "«                                                                       »\n",
       "« q_3: ─────────────────────────────────────────────────────────────────»\n",
       "«                                                                       »\n",
       "« q_4: ───────■─────────────────────────────────────────────────────────»\n",
       "«             │                                                         »\n",
       "« q_5: ───────┼───────────────■─────────────────────────────────────────»\n",
       "«             │               │                                         »\n",
       "« q_6: ───────┼───────────────┼───────────────■─────────────────────────»\n",
       "«             │               │               │                         »\n",
       "« q_7: ───────┼───────────────┼───────────────┼────────────────■────────»\n",
       "«      ┌──────┴───────┐┌──────┴───────┐┌──────┴───────┐┌───────┴───────┐»\n",
       "« q_8: ┤0             ├┤0             ├┤0             ├┤0              ├»\n",
       "«      │              ││              ││              ││               │»\n",
       "« q_9: ┤1             ├┤1             ├┤1             ├┤1              ├»\n",
       "«      │  7^16 mod 15 ││  7^32 mod 15 ││  7^64 mod 15 ││  7^128 mod 15 │»\n",
       "«q_10: ┤2             ├┤2             ├┤2             ├┤2              ├»\n",
       "«      │              ││              ││              ││               │»\n",
       "«q_11: ┤3             ├┤3             ├┤3             ├┤3              ├»\n",
       "«      └──────────────┘└──────────────┘└──────────────┘└───────────────┘»\n",
       "« c: 8/═════════════════════════════════════════════════════════════════»\n",
       "«                                                                       »\n",
       "«      ┌───────┐┌─┐                     \n",
       "« q_0: ┤0      ├┤M├─────────────────────\n",
       "«      │       │└╥┘┌─┐                  \n",
       "« q_1: ┤1      ├─╫─┤M├──────────────────\n",
       "«      │       │ ║ └╥┘┌─┐               \n",
       "« q_2: ┤2      ├─╫──╫─┤M├───────────────\n",
       "«      │       │ ║  ║ └╥┘┌─┐            \n",
       "« q_3: ┤3      ├─╫──╫──╫─┤M├────────────\n",
       "«      │  QFT† │ ║  ║  ║ └╥┘┌─┐         \n",
       "« q_4: ┤4      ├─╫──╫──╫──╫─┤M├─────────\n",
       "«      │       │ ║  ║  ║  ║ └╥┘┌─┐      \n",
       "« q_5: ┤5      ├─╫──╫──╫──╫──╫─┤M├──────\n",
       "«      │       │ ║  ║  ║  ║  ║ └╥┘┌─┐   \n",
       "« q_6: ┤6      ├─╫──╫──╫──╫──╫──╫─┤M├───\n",
       "«      │       │ ║  ║  ║  ║  ║  ║ └╥┘┌─┐\n",
       "« q_7: ┤7      ├─╫──╫──╫──╫──╫──╫──╫─┤M├\n",
       "«      └───────┘ ║  ║  ║  ║  ║  ║  ║ └╥┘\n",
       "« q_8: ──────────╫──╫──╫──╫──╫──╫──╫──╫─\n",
       "«                ║  ║  ║  ║  ║  ║  ║  ║ \n",
       "« q_9: ──────────╫──╫──╫──╫──╫──╫──╫──╫─\n",
       "«                ║  ║  ║  ║  ║  ║  ║  ║ \n",
       "«q_10: ──────────╫──╫──╫──╫──╫──╫──╫──╫─\n",
       "«                ║  ║  ║  ║  ║  ║  ║  ║ \n",
       "«q_11: ──────────╫──╫──╫──╫──╫──╫──╫──╫─\n",
       "«                ║  ║  ║  ║  ║  ║  ║  ║ \n",
       "« c: 8/══════════╩══╩══╩══╩══╩══╩══╩══╩═\n",
       "«                0  1  2  3  4  5  6  7 </pre>"
      ],
      "text/plain": [
       "      ┌───┐                                                            »\n",
       " q_0: ┤ H ├───────■────────────────────────────────────────────────────»\n",
       "      ├───┤       │                                                    »\n",
       " q_1: ┤ H ├───────┼──────────────■─────────────────────────────────────»\n",
       "      ├───┤       │              │                                     »\n",
       " q_2: ┤ H ├───────┼──────────────┼──────────────■──────────────────────»\n",
       "      ├───┤       │              │              │                      »\n",
       " q_3: ┤ H ├───────┼──────────────┼──────────────┼──────────────■───────»\n",
       "      ├───┤       │              │              │              │       »\n",
       " q_4: ┤ H ├───────┼──────────────┼──────────────┼──────────────┼───────»\n",
       "      ├───┤       │              │              │              │       »\n",
       " q_5: ┤ H ├───────┼──────────────┼──────────────┼──────────────┼───────»\n",
       "      ├───┤       │              │              │              │       »\n",
       " q_6: ┤ H ├───────┼──────────────┼──────────────┼──────────────┼───────»\n",
       "      ├───┤       │              │              │              │       »\n",
       " q_7: ┤ H ├───────┼──────────────┼──────────────┼──────────────┼───────»\n",
       "      └───┘┌──────┴──────┐┌──────┴──────┐┌──────┴──────┐┌──────┴──────┐»\n",
       " q_8: ─────┤0            ├┤0            ├┤0            ├┤0            ├»\n",
       "           │             ││             ││             ││             │»\n",
       " q_9: ─────┤1            ├┤1            ├┤1            ├┤1            ├»\n",
       "           │  7^1 mod 15 ││  7^2 mod 15 ││  7^4 mod 15 ││  7^8 mod 15 │»\n",
       "q_10: ─────┤2            ├┤2            ├┤2            ├┤2            ├»\n",
       "      ┌───┐│             ││             ││             ││             │»\n",
       "q_11: ┤ X ├┤3            ├┤3            ├┤3            ├┤3            ├»\n",
       "      └───┘└─────────────┘└─────────────┘└─────────────┘└─────────────┘»\n",
       " c: 8/═════════════════════════════════════════════════════════════════»\n",
       "                                                                       »\n",
       "«                                                                       »\n",
       "« q_0: ─────────────────────────────────────────────────────────────────»\n",
       "«                                                                       »\n",
       "« q_1: ─────────────────────────────────────────────────────────────────»\n",
       "«                                                                       »\n",
       "« q_2: ─────────────────────────────────────────────────────────────────»\n",
       "«                                                                       »\n",
       "« q_3: ─────────────────────────────────────────────────────────────────»\n",
       "«                                                                       »\n",
       "« q_4: ───────■─────────────────────────────────────────────────────────»\n",
       "«             │                                                         »\n",
       "« q_5: ───────┼───────────────■─────────────────────────────────────────»\n",
       "«             │               │                                         »\n",
       "« q_6: ───────┼───────────────┼───────────────■─────────────────────────»\n",
       "«             │               │               │                         »\n",
       "« q_7: ───────┼───────────────┼───────────────┼────────────────■────────»\n",
       "«      ┌──────┴───────┐┌──────┴───────┐┌──────┴───────┐┌───────┴───────┐»\n",
       "« q_8: ┤0             ├┤0             ├┤0             ├┤0              ├»\n",
       "«      │              ││              ││              ││               │»\n",
       "« q_9: ┤1             ├┤1             ├┤1             ├┤1              ├»\n",
       "«      │  7^16 mod 15 ││  7^32 mod 15 ││  7^64 mod 15 ││  7^128 mod 15 │»\n",
       "«q_10: ┤2             ├┤2             ├┤2             ├┤2              ├»\n",
       "«      │              ││              ││              ││               │»\n",
       "«q_11: ┤3             ├┤3             ├┤3             ├┤3              ├»\n",
       "«      └──────────────┘└──────────────┘└──────────────┘└───────────────┘»\n",
       "« c: 8/═════════════════════════════════════════════════════════════════»\n",
       "«                                                                       »\n",
       "«      ┌───────┐┌─┐                     \n",
       "« q_0: ┤0      ├┤M├─────────────────────\n",
       "«      │       │└╥┘┌─┐                  \n",
       "« q_1: ┤1      ├─╫─┤M├──────────────────\n",
       "«      │       │ ║ └╥┘┌─┐               \n",
       "« q_2: ┤2      ├─╫──╫─┤M├───────────────\n",
       "«      │       │ ║  ║ └╥┘┌─┐            \n",
       "« q_3: ┤3      ├─╫──╫──╫─┤M├────────────\n",
       "«      │  QFT† │ ║  ║  ║ └╥┘┌─┐         \n",
       "« q_4: ┤4      ├─╫──╫──╫──╫─┤M├─────────\n",
       "«      │       │ ║  ║  ║  ║ └╥┘┌─┐      \n",
       "« q_5: ┤5      ├─╫──╫──╫──╫──╫─┤M├──────\n",
       "«      │       │ ║  ║  ║  ║  ║ └╥┘┌─┐   \n",
       "« q_6: ┤6      ├─╫──╫──╫──╫──╫──╫─┤M├───\n",
       "«      │       │ ║  ║  ║  ║  ║  ║ └╥┘┌─┐\n",
       "« q_7: ┤7      ├─╫──╫──╫──╫──╫──╫──╫─┤M├\n",
       "«      └───────┘ ║  ║  ║  ║  ║  ║  ║ └╥┘\n",
       "« q_8: ──────────╫──╫──╫──╫──╫──╫──╫──╫─\n",
       "«                ║  ║  ║  ║  ║  ║  ║  ║ \n",
       "« q_9: ──────────╫──╫──╫──╫──╫──╫──╫──╫─\n",
       "«                ║  ║  ║  ║  ║  ║  ║  ║ \n",
       "«q_10: ──────────╫──╫──╫──╫──╫──╫──╫──╫─\n",
       "«                ║  ║  ║  ║  ║  ║  ║  ║ \n",
       "«q_11: ──────────╫──╫──╫──╫──╫──╫──╫──╫─\n",
       "«                ║  ║  ║  ║  ║  ║  ║  ║ \n",
       "« c: 8/══════════╩══╩══╩══╩══╩══╩══╩══╩═\n",
       "«                0  1  2  3  4  5  6  7 "
      ]
     },
     "execution_count": 5,
     "metadata": {},
     "output_type": "execute_result"
    }
   ],
   "source": [
    "qc = QuantumCircuit(n_count + 4, n_count)\n",
    "\n",
    "for q in range(n_count):\n",
    "    qc.h(q)\n",
    "    \n",
    "qc.x(3+n_count)\n",
    "\n",
    "for q in range(n_count):\n",
    "    qc.append(c_amod15(a, 2**q), \n",
    "             [q] + [i+n_count for i in range(4)])\n",
    "\n",
    "qc.append(qft_dagger(n_count), range(n_count))\n",
    "\n",
    "qc.measure(range(n_count), range(n_count))\n",
    "qc.draw('text')"
   ]
  },
  {
   "cell_type": "markdown",
   "id": "spanish-accent",
   "metadata": {},
   "source": [
    "Dies sind die Ergebnisse der Quantenphasenschätzung auf den unitären Operator und dessen Eigenvektor"
   ]
  },
  {
   "cell_type": "code",
   "execution_count": 6,
   "id": "ecological-edward",
   "metadata": {},
   "outputs": [
    {
     "data": {
      "image/png": "[encoded data removed]",
      "text/plain": [
       "<Figure size 504x360 with 1 Axes>"
      ]
     },
     "execution_count": 6,
     "metadata": {},
     "output_type": "execute_result"
    }
   ],
   "source": [
    "backend = Aer.get_backend('qasm_simulator')\n",
    "results = execute(qc, backend, shots=2048).result()\n",
    "counts = results.get_counts()\n",
    "plot_histogram(counts)"
   ]
  },
  {
   "cell_type": "code",
   "execution_count": 7,
   "id": "organized-taiwan",
   "metadata": {},
   "outputs": [
    {
     "name": "stdout",
     "output_type": "stream",
     "text": [
      "         Register       Eigenwert\n",
      "0    00000000 = 0    0/256 = 0.00\n",
      "1   01000000 = 64   64/256 = 0.25\n",
      "2  10000000 = 128  128/256 = 0.50\n",
      "3  11000000 = 192  192/256 = 0.75\n"
     ]
    }
   ],
   "source": [
    "rows, measured_phases = [], []\n",
    "for output in counts:\n",
    "    decimal = int(output, 2) \n",
    "    phase = decimal/(2**n_count)\n",
    "    measured_phases.append(phase)\n",
    "    \n",
    "    rows.append([\"%s = %i\" % (output, decimal), \n",
    "                 \"%i/%i = %.2f\" % (decimal, 2**n_count, phase)])\n",
    "\n",
    "headers=[\"Register\", \"Eigenwert\"]\n",
    "df = pd.DataFrame(rows, columns=headers)\n",
    "print(df)"
   ]
  },
  {
   "cell_type": "code",
   "execution_count": 8,
   "id": "strong-plasma",
   "metadata": {},
   "outputs": [
    {
     "name": "stdout",
     "output_type": "stream",
     "text": [
      "   Eigenwert Bruch  Mögliches r\n",
      "0       0.00   0/1            1\n",
      "1       0.25   1/4            4\n",
      "2       0.50   1/2            2\n",
      "3       0.75   3/4            4\n"
     ]
    }
   ],
   "source": [
    "rows = []\n",
    "for phase in measured_phases:\n",
    "    frac = Fraction(phase).limit_denominator(15)\n",
    "    rows.append([phase, \"%i/%i\" % (frac.numerator, frac.denominator), frac.denominator])\n",
    "    \n",
    "headers=[\"Eigenwert\", \"Bruch\", \"Mögliches r\"]\n",
    "df = pd.DataFrame(rows, columns=headers)\n",
    "print(df)"
   ]
  },
  {
   "cell_type": "markdown",
   "id": "express-lender",
   "metadata": {},
   "source": [
    "Wir sehen nun also, dass wir mit einer Wahrscheinlichkeit von $\\frac{1}{2}$ die Ordnung $r = 4$ berechnet haben. Um genauere Ergebnisse zu erzielen könnten wir zum Beispiel die Anzahl der \"Shots\" innerhalb der Simulation erhöhen oder mehr Qubits verwenden"
   ]
  },
  {
   "cell_type": "code",
   "execution_count": 9,
   "id": "surprising-graduation",
   "metadata": {},
   "outputs": [
    {
     "data": {
      "text/plain": [
       "1"
      ]
     },
     "execution_count": 9,
     "metadata": {},
     "output_type": "execute_result"
    }
   ],
   "source": [
    "pow(7, 4) % 15"
   ]
  },
  {
   "cell_type": "markdown",
   "id": "taken-stress",
   "metadata": {},
   "source": [
    "Die berechnete Ordnung ist also richtig"
   ]
  },
  {
   "cell_type": "markdown",
   "id": "varying-desperate",
   "metadata": {},
   "source": [
    "Es ist zu beachten, dass das Experiment (bzw. der Shors Algorithmus) einen Teil seiner Berechnungen auf klassische Weise durchführt. Dies ist die Extrahierung des Nenners aus dem Eigenwert, der durch die Python-Builtin *Fraction().limit_denominator(15)* berechnet wird. \\\n",
    "Diese Methodik trifft auf die meisten Quantenalgorithmen zu, wobei immer ein Teil der Berechnungen von einem klassischen Algorithmus durchgeführt werden."
   ]
  },
  {
   "cell_type": "markdown",
   "id": "threatened-ideal",
   "metadata": {},
   "source": [
    "## Der Shors's Algorithmus und das Diskrete Logarithmus Problem"
   ]
  },
  {
   "cell_type": "markdown",
   "id": "progressive-compensation",
   "metadata": {},
   "source": [
    "Bisher löst der Shor's Algorithmus lediglich das \"Order-Finding-Problem\". Im Folgenden wird nun erklärt, wie die Lösung dieses Problems auf die Lösung des Diskreten Logarithmus Problems(DLP) angewendet werden kann."
   ]
  },
  {
   "cell_type": "markdown",
   "id": "sudden-wednesday",
   "metadata": {},
   "source": [
    "Das DLP lautet wie folgt: \n",
    "Gegeben sei eine zyklische Gruppe $G$, deren Generatorelement $g \\in G$, sowie ein weiteres Element $x \\in G$. Finde eine Ganzzahl $r$, sodass gilt: $$x = g^r \\in G$$"
   ]
  },
  {
   "cell_type": "markdown",
   "id": "herbal-bankruptcy",
   "metadata": {},
   "source": [
    "Definieren wir nun eine Funktion $f(a, b)$, die auf Elemente der Gruppe $G$ angewendet wird. Die Gruppenstruktur muss dabei erhalten bleiben. $f(a, b)$ ist also ein Gruppenhomomorphismus.\n",
    "$$f(a, b) = g^ax^{-b}$$ \n",
    "Klar ist, dass der Kern der Funktion $f$ (also die Element der Gruppe, die durch $f$ auf das Identitätselement $1$ abgebildet werden) aus Elementen folgender Form besteht: $$(a*r, 1) \\ ; \\ a \\in \\mathbb{N}$$\n",
    "Da $f$ eine periodische Funktion ist, kann der Shor's Algorithmus die zu Elementen des Kerns gehörende Paramter $a,b$ beschleunigt berechnen und damit schließlich den Kern $r$ berechnen _[1]_."
   ]
  },
  {
   "cell_type": "markdown",
   "id": "defensive-ontario",
   "metadata": {},
   "source": [
    "Die übertragene Methode zur Berechnung des DLP auf elliptischen Kurven wurde bereits in der Arbeit \"QrTOR - Modernes quantenresistentes Onion Routing\" besprochen"
   ]
  },
  {
   "cell_type": "markdown",
   "id": "stretch-effect",
   "metadata": {},
   "source": [
    "## Referenzen\n",
    "_[1]_ Quantum Computation and Quantum Information; Nielsen Michael, Chuang Isaac; 2010 Cambridge University Press\\\n",
    "_[2]_ Qiskit Textbook; Abraham Asfaw, Luciano Bello, Yael Ben-Haim, Sergey Bravyi, Nicholas Bronn, Lauren Capelluto, Almudena Carrera Vazquez, Jack Ceroni, Richard Chen, Albert Frisch, Jay Gambetta, Shelly Garion, Leron Gil, Salvador De La Puente Gonzalez, Francis Harkins, Takashi Imamichi, Hwajung Kang, Amir h. Karamlou, David McKay, Antonio Mezzacapo, Zlatko Minev, Ramis Movassagh, Giacomo Nannicni, Paul Nation, Anna Phan, Marco Pistoia, Arthur Rattew, Joachim Schaefer, Javad Shabani, John Smolin, John Stenger, Kristan Temme, Madeleine Tod, Stephen Wood, James Wootton; 2020 IBM\\\n",
    "_[3]_ Quantenmechanik; Griffiths David; 2012 Pearson"
   ]
  },
  {
   "cell_type": "markdown",
   "id": "considerable-automation",
   "metadata": {},
   "source": [
    "***\n",
    "&copy; 2021, Linus Meierhöfer"
   ]
  }
 ],
 "metadata": {
  "kernelspec": {
   "display_name": "Python 3",
   "language": "python",
   "name": "python3"
  },
  "language_info": {
   "codemirror_mode": {
    "name": "ipython",
    "version": 3
   },
   "file_extension": ".py",
   "mimetype": "text/x-python",
   "name": "python",
   "nbconvert_exporter": "python",
   "pygments_lexer": "ipython3",
   "version": "3.8.5"
  }
 },
 "nbformat": 4,
 "nbformat_minor": 5
}
